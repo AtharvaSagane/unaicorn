{
  "nbformat": 4,
  "nbformat_minor": 0,
  "metadata": {
    "colab": {
      "provenance": []
    },
    "kernelspec": {
      "name": "python3",
      "display_name": "Python 3"
    },
    "language_info": {
      "name": "python"
    }
  },
  "cells": [
    {
      "cell_type": "code",
      "execution_count": null,
      "metadata": {
        "colab": {
          "base_uri": "https://localhost:8080/"
        },
        "id": "Bs15CksPS65T",
        "outputId": "2ea73da1-85b8-47ef-afd1-379e12bd3f1d"
      },
      "outputs": [
        {
          "output_type": "stream",
          "name": "stderr",
          "text": [
            "/tmp/ipython-input-1226499039.py:44: FutureWarning: Downcasting behavior in `replace` is deprecated and will be removed in a future version. To retain the old behavior, explicitly call `result.infer_objects(copy=False)`. To opt-in to the future behavior, set `pd.set_option('future.no_silent_downcasting', True)`\n",
            "  df['Sex'] = df['Sex'].replace({'male': 0, 'female': 1})\n",
            "/tmp/ipython-input-1226499039.py:45: FutureWarning: Downcasting behavior in `replace` is deprecated and will be removed in a future version. To retain the old behavior, explicitly call `result.infer_objects(copy=False)`. To opt-in to the future behavior, set `pd.set_option('future.no_silent_downcasting', True)`\n",
            "  df['Embarked'] = df['Embarked'].replace({'S': 0, 'C': 1, 'Q': 2})\n",
            "/tmp/ipython-input-1226499039.py:46: FutureWarning: Downcasting behavior in `replace` is deprecated and will be removed in a future version. To retain the old behavior, explicitly call `result.infer_objects(copy=False)`. To opt-in to the future behavior, set `pd.set_option('future.no_silent_downcasting', True)`\n",
            "  df['Title'] = df['Title'].replace({\n"
          ]
        },
        {
          "output_type": "stream",
          "name": "stdout",
          "text": [
            "✅ Model trained and saved as titanic_model.sav\n"
          ]
        }
      ],
      "source": [
        "from sklearn.model_selection import train_test_split\n",
        "from sklearn.ensemble import RandomForestClassifier\n",
        "import pandas as pd\n",
        "import pickle\n",
        "\n",
        "# -----------------------------\n",
        "# Step 1: Load & Preprocess Data\n",
        "# -----------------------------\n",
        "df = pd.read_csv(\"train.csv\")\n",
        "\n",
        "def get_title(name):\n",
        "    if '.' in name:\n",
        "        return name.split(',')[1].split('.')[0].strip()\n",
        "    else:\n",
        "        return 'Unknown'\n",
        "\n",
        "# Extract and normalize titles\n",
        "df['Title'] = df['Name'].map(get_title)\n",
        "\n",
        "def replace_titles(x):\n",
        "    title = x['Title']\n",
        "    if title in ['Capt', 'Col', 'Major']:\n",
        "        return 'Officer'\n",
        "    elif title in [\"Jonkheer\", \"Don\", 'the Countess', 'Dona', 'Lady', \"Sir\"]:\n",
        "        return 'Royalty'\n",
        "    elif title in ['Mme', 'Lady']:\n",
        "        return 'Mrs'\n",
        "    elif title in ['Mlle', 'Ms']:\n",
        "        return 'Miss'\n",
        "    else:\n",
        "        return title\n",
        "\n",
        "df['Title'] = df.apply(replace_titles, axis=1)\n",
        "\n",
        "# Fill missing values\n",
        "df['Age'] = df['Age'].fillna(df['Age'].median())\n",
        "df['Fare'] = df['Fare'].fillna(df['Fare'].median())\n",
        "df['Embarked'] = df['Embarked'].fillna(\"S\")\n",
        "\n",
        "# Drop irrelevant columns\n",
        "df = df.drop([\"Cabin\", \"Ticket\", \"Name\"], axis=1)\n",
        "\n",
        "# Encode categorical features\n",
        "df['Sex'] = df['Sex'].replace({'male': 0, 'female': 1})\n",
        "df['Embarked'] = df['Embarked'].replace({'S': 0, 'C': 1, 'Q': 2})\n",
        "df['Title'] = df['Title'].replace({\n",
        "    'Mr': 0, 'Miss': 1, 'Mrs': 2, 'Master': 3,\n",
        "    'Dr': 4, 'Rev': 5, 'Officer': 6, 'Royalty': 7\n",
        "})\n",
        "\n",
        "# -----------------------------\n",
        "# Step 2: Train/Test Split\n",
        "# -----------------------------\n",
        "predictors = df.drop(['Survived', 'PassengerId'], axis=1)\n",
        "target = df['Survived']\n",
        "\n",
        "x_train, x_val, y_train, y_val = train_test_split(\n",
        "    predictors, target, test_size=0.22, random_state=0\n",
        ")\n",
        "\n",
        "# -----------------------------\n",
        "# Step 3: Train RandomForest\n",
        "# -----------------------------\n",
        "randomforest = RandomForestClassifier(\n",
        "    n_estimators=200,\n",
        "    max_depth=7,\n",
        "    random_state=42\n",
        ")\n",
        "randomforest.fit(x_train, y_train)\n",
        "\n",
        "# -----------------------------\n",
        "# Step 4: Save Model + Features\n",
        "# -----------------------------\n",
        "model_data = {\n",
        "    \"model\": randomforest,\n",
        "    \"features\": list(predictors.columns)\n",
        "}\n",
        "pickle.dump(model_data, open(\"titanic_model.sav\", \"wb\"))\n",
        "\n",
        "print(\"✅ Model trained and saved as titanic_model.sav\")\n",
        "\n",
        "\n",
        "# -----------------------------\n",
        "# Step 5: Runner Function\n",
        "# -----------------------------\n",
        "def prediction_model(pclass, sex, age, sibsp, parch, fare, embarked, title):\n",
        "    import pickle\n",
        "    import pandas as pd\n",
        "\n",
        "    # Load model + features\n",
        "    model_data = pickle.load(open(\"titanic_model.sav\", \"rb\"))\n",
        "    model = model_data[\"model\"]\n",
        "    features = model_data[\"features\"]\n",
        "\n",
        "    # Prepare input DataFrame in correct feature order\n",
        "    input_df = pd.DataFrame([{\n",
        "        \"Pclass\": pclass,\n",
        "        \"Sex\": sex,\n",
        "        \"Age\": age,\n",
        "        \"SibSp\": sibsp,\n",
        "        \"Parch\": parch,\n",
        "        \"Fare\": fare,\n",
        "        \"Embarked\": embarked,\n",
        "        \"Title\": title\n",
        "    }])[features]\n",
        "\n",
        "    prediction = model.predict(input_df)[0]\n",
        "    return prediction\n",
        "\n"
      ]
    },
    {
      "cell_type": "code",
      "source": [
        "from google.colab import files\n",
        "files.download(\"titanic_model.sav\")\n",
        "\n"
      ],
      "metadata": {
        "colab": {
          "base_uri": "https://localhost:8080/",
          "height": 17
        },
        "id": "NAVYU4RvMR5y",
        "outputId": "05f2b847-7505-4b55-ff2b-e5aac44968c8"
      },
      "execution_count": null,
      "outputs": [
        {
          "output_type": "display_data",
          "data": {
            "text/plain": [
              "<IPython.core.display.Javascript object>"
            ],
            "application/javascript": [
              "\n",
              "    async function download(id, filename, size) {\n",
              "      if (!google.colab.kernel.accessAllowed) {\n",
              "        return;\n",
              "      }\n",
              "      const div = document.createElement('div');\n",
              "      const label = document.createElement('label');\n",
              "      label.textContent = `Downloading \"${filename}\": `;\n",
              "      div.appendChild(label);\n",
              "      const progress = document.createElement('progress');\n",
              "      progress.max = size;\n",
              "      div.appendChild(progress);\n",
              "      document.body.appendChild(div);\n",
              "\n",
              "      const buffers = [];\n",
              "      let downloaded = 0;\n",
              "\n",
              "      const channel = await google.colab.kernel.comms.open(id);\n",
              "      // Send a message to notify the kernel that we're ready.\n",
              "      channel.send({})\n",
              "\n",
              "      for await (const message of channel.messages) {\n",
              "        // Send a message to notify the kernel that we're ready.\n",
              "        channel.send({})\n",
              "        if (message.buffers) {\n",
              "          for (const buffer of message.buffers) {\n",
              "            buffers.push(buffer);\n",
              "            downloaded += buffer.byteLength;\n",
              "            progress.value = downloaded;\n",
              "          }\n",
              "        }\n",
              "      }\n",
              "      const blob = new Blob(buffers, {type: 'application/binary'});\n",
              "      const a = document.createElement('a');\n",
              "      a.href = window.URL.createObjectURL(blob);\n",
              "      a.download = filename;\n",
              "      div.appendChild(a);\n",
              "      a.click();\n",
              "      div.remove();\n",
              "    }\n",
              "  "
            ]
          },
          "metadata": {}
        },
        {
          "output_type": "display_data",
          "data": {
            "text/plain": [
              "<IPython.core.display.Javascript object>"
            ],
            "application/javascript": [
              "download(\"download_61aaccb3-e14b-45ad-bbdc-704b59a3e7e1\", \"titanic_model.sav\", 1702114)"
            ]
          },
          "metadata": {}
        }
      ]
    },
    {
      "cell_type": "code",
      "source": [],
      "metadata": {
        "id": "Gj7tJNsaMiAG"
      },
      "execution_count": null,
      "outputs": []
    }
  ]
}